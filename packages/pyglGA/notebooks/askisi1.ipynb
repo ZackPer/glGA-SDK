{
 "cells": [
  {
   "cell_type": "markdown",
   "metadata": {},
   "source": [
    "##### ΗΥ553 Interactive Computer Graphics\n",
    "# Assignment 1\n",
    "##### Zacharias Pervolarakis\n",
    "##### This is a short Jupyter notebook briefly explaining parts of the code\n",
    "---\n"
   ]
  },
  {
   "cell_type": "markdown",
   "metadata": {},
   "source": [
    "### Homes for everyone"
   ]
  },
  {
   "cell_type": "markdown",
   "metadata": {},
   "source": [
    "GameObject Entity (name will probably change) is a wrapper for an Entity that contains four basic components:\n",
    "- Basic Transform\n",
    "- Mesh\n",
    "- Shader\n",
    "- Vertex Array\n",
    "\n",
    "Both the cube and the pyramid are GameObjects."
   ]
  },
  {
   "cell_type": "code",
   "execution_count": null,
   "metadata": {},
   "outputs": [],
   "source": [
    "class GameObjectEntity(Entity):\n",
    "    def __init__(self, name=None, type=None, id=None) -> None:\n",
    "        super().__init__(name, type, id);\n",
    "\n",
    "        # Gameobject basic properties\n",
    "        self._color          = [1, 1, 1]; # this will be used as a uniform var\n",
    "        # Create basic components of a primitive object\n",
    "        self.trans          = BasicTransform(name=\"trans\", trs=util.identity());\n",
    "        self.mesh           = RenderMesh(name=\"mesh\");\n",
    "        self.shaderDec      = ShaderGLDecorator(Shader(vertex_source=Shader.VERT_PHONG_MVP, fragment_source=Shader.FRAG_PHONG));\n",
    "        self.vArray         = VertexArray();\n",
    "        # Add components to entity\n",
    "        scene = Scene();\n",
    "        scene.world.createEntity(self);\n",
    "        scene.world.addComponent(self, self.trans);\n",
    "        scene.world.addComponent(self, self.mesh);\n",
    "        scene.world.addComponent(self, self.shaderDec);\n",
    "        scene.world.addComponent(self, self.vArray);\n",
    "\n",
    "    @property\n",
    "    def color(self):\n",
    "        return self._color;\n",
    "    @color.setter\n",
    "    def color(self, colorArray):\n",
    "        self._color = colorArray;\n",
    "\n",
    "    def drawSelfGui(self, imgui):\n",
    "        changed, value = imgui.color_edit3(\"Color\", self.color[0], self.color[1], self.color[2]);\n",
    "        self.color = [value[0], value[1], value[2]];\n",
    "\n",
    "    def SetVertexAttributes(self, vertex, color, index, normals = None):\n",
    "        self.mesh.vertex_attributes.append(vertex);\n",
    "        self.mesh.vertex_attributes.append(color);\n",
    "        if normals is not None:\n",
    "            self.mesh.vertex_attributes.append(normals);\n",
    "        self.mesh.vertex_index.append(index);"
   ]
  },
  {
   "cell_type": "markdown",
   "metadata": {},
   "source": [
    "To easily spawn gameobjects at will, I created a Singleton class called PrimitiveGameObjectSpawner. It uses the PrimitiveGameObjectType (Enum) to define what it spawns."
   ]
  },
  {
   "cell_type": "markdown",
   "metadata": {},
   "source": [
    "Then, a simple SpawnHome function was created that simply spawns a cube and a pyramid (offseted up). Finally, it returns the newly created Entity Home that contains the GameObjects."
   ]
  },
  {
   "cell_type": "code",
   "execution_count": null,
   "metadata": {},
   "outputs": [],
   "source": [
    "\n",
    "def SpawnHome():\n",
    "    scene = Scene();\n",
    "\n",
    "    home = scene.world.createEntity(Entity(\"Home\"));\n",
    "    scene.world.addEntityChild(scene.world.root, home);\n",
    "\n",
    "    # Add trs to home\n",
    "    trans = BasicTransform(name=\"trans\", trs=util.identity());    scene.world.addComponent(home, trans);\n",
    "\n",
    "    # Create simple cube\n",
    "    cube: GameObjectEntity = PrimitiveGameObjectSpawner().Spawn(PrimitiveGameObjectType.CUBE);\n",
    "    scene.world.addEntityChild(home, cube);\n",
    "\n",
    "    # Create simple pyramid\n",
    "    pyramid: GameObjectEntity = PrimitiveGameObjectSpawner().Spawn(PrimitiveGameObjectType.PYRAMID);\n",
    "    scene.world.addEntityChild(home, pyramid);\n",
    "    pyramid.trans.trs = util.translate(0, 1, 0); # Move pyramid to the top of the cube\n",
    "\n",
    "    return home;\n"
   ]
  },
  {
   "cell_type": "markdown",
   "metadata": {},
   "source": [
    "----\n"
   ]
  },
  {
   "cell_type": "markdown",
   "metadata": {},
   "source": [
    "### Let there be light"
   ]
  },
  {
   "cell_type": "markdown",
   "metadata": {},
   "source": [
    "To implement the shaders I heavily followed this tutorial:\n",
    "https://learnopengl.com/Lighting/Basic-Lighting"
   ]
  },
  {
   "cell_type": "markdown",
   "metadata": {},
   "source": [
    "The following classes were created:\n",
    "Light(Entity) and PointLight(Light)"
   ]
  },
  {
   "cell_type": "code",
   "execution_count": null,
   "metadata": {},
   "outputs": [],
   "source": [
    "class Light(Entity):\n",
    "    def __init__(self, name=None, type=None, id=None) -> None:\n",
    "        super().__init__(name, type, id);\n",
    "        # Add variables for light\n",
    "        self.color = [1, 1, 1];\n",
    "        self.intensity = 1;\n",
    "    \n",
    "    def drawSelfGui(self, imgui):\n",
    "        changed, value = imgui.slider_float(\"Intensity\", self.intensity, 0, 10, \"%.1f\", 1);\n",
    "        self.intensity = value;\n",
    "\n",
    "        changed, value = imgui.color_edit3(\"Color\", self.color[0], self.color[1], self.color[2]);\n",
    "        self.color = [value[0], value[1], value[2]];\n",
    "        None;\n",
    "        \n",
    "class PointLight(Light):\n",
    "    def __init__(self, name=None, type=None, id=None) -> None:\n",
    "        super().__init__(name, type, id);\n",
    "\n",
    "        # Create basic components of a primitive object\n",
    "        self.trans          = BasicTransform(name=\"trans\", trs=util.identity());\n",
    "        scene = Scene();\n",
    "        scene.world.createEntity(self);\n",
    "        scene.world.addComponent(self, self.trans);\n",
    "\n",
    "    def drawSelfGui(self, imgui):\n",
    "        super().drawSelfGui(imgui);\n"
   ]
  },
  {
   "cell_type": "markdown",
   "metadata": {},
   "source": [
    "Their values can be customized from the GUI and are passed as uniform variables to the shaders that require them.\n",
    "\n",
    "You can check the shaders for the code:\n",
    "- VERT_PHONG_MVP\n",
    "- FRAG_PHONG"
   ]
  },
  {
   "cell_type": "markdown",
   "metadata": {},
   "source": [
    "### Important to note\n",
    "Even though nobody has told us before, pyglGA uses indexed geometry to pass information to the GUI. That means that it is impossible to pass the normals of the vertices like we were expected to or like we used to do it in HY338. \n",
    "\n",
    "Indexed geometry has only one index for all the buffers, so if we have only 8 vertices we cant represent more than one normal for each.\n",
    "\n",
    "For counteract this, I created a simple IndexConverter class that receives:\n",
    "- array of vertices\n",
    "- array of colors\n",
    "- array of indices,\n",
    "and it converts the above for information that can be fed into the indexed geometry glBuffers.\n",
    "\n",
    "For now it simlpy does the job but it is not optimized. Normally it should find similar pairs and use the same index. Maybe I will fix it on the next assignment."
   ]
  },
  {
   "cell_type": "code",
   "execution_count": 1,
   "metadata": {},
   "outputs": [],
   "source": [
    "class IndexedConverter():\n",
    "    \n",
    "    # Assumes triangulated buffers. Produces indexed results that support\n",
    "    # normals as well.\n",
    "    def Convert(self, vertices, colors, indices, produceNormals=True):\n",
    "\n",
    "        iVertices = [];\n",
    "        iColors = [];\n",
    "        iNormals = [];\n",
    "        iIndices = [];\n",
    "        for i in range(0, len(indices), 3):\n",
    "            iVertices.append(vertices[indices[i]]);\n",
    "            iVertices.append(vertices[indices[i + 1]]);\n",
    "            iVertices.append(vertices[indices[i + 2]]);\n",
    "            iColors.append(colors[indices[i]]);\n",
    "            iColors.append(colors[indices[i + 1]]);\n",
    "            iColors.append(colors[indices[i + 2]]);\n",
    "            iNormals.append(util.calculateNormals(vertices[indices[i]], vertices[indices[i + 1]], vertices[indices[i + 2]]));\n",
    "            iNormals.append(util.calculateNormals(vertices[indices[i]], vertices[indices[i + 1]], vertices[indices[i + 2]]));\n",
    "            iNormals.append(util.calculateNormals(vertices[indices[i]], vertices[indices[i + 1]], vertices[indices[i + 2]]));\n",
    "\n",
    "            iIndices.append(i);\n",
    "            iIndices.append(i + 1);\n",
    "            iIndices.append(i + 2);\n",
    "\n",
    "        iVertices = np.array(\n",
    "            iVertices,\n",
    "            dtype=np.float32\n",
    "        )\n",
    "        iColors = np.array(\n",
    "            iColors,\n",
    "            dtype=np.float32\n",
    "        )\n",
    "        iNormals = np.array(\n",
    "            iNormals,\n",
    "            dtype=np.float32\n",
    "        )\n",
    "        iIndices = np.array(\n",
    "            iIndices,\n",
    "            dtype=np.uint32\n",
    "        );\n",
    "\n",
    "        return iVertices, iColors, iNormals, iIndices;"
   ]
  },
  {
   "cell_type": "markdown",
   "metadata": {},
   "source": [
    "---"
   ]
  },
  {
   "cell_type": "markdown",
   "metadata": {},
   "source": [
    "### Transforming Pyramid"
   ]
  },
  {
   "cell_type": "markdown",
   "metadata": {},
   "source": [
    "For this pyramid a primitive pyramid was spawned and a RotateAnimation class was attached to it. For it to match the ECSS system an Animation System needs to be created but who has time for that.\n",
    "\n",
    "Every while loop, animation->Progress() is called."
   ]
  },
  {
   "cell_type": "code",
   "execution_count": null,
   "metadata": {},
   "outputs": [],
   "source": [
    "class RotateAnimation(Entity):\n",
    "    def __init__(self, name=None, type=None, id=None) -> None:\n",
    "        super().__init__(name, type, id);\n",
    "        self._angle = 1;\n",
    "        self._target = None;\n",
    "\n",
    "    def SetTarget(self, target: BasicTransform):\n",
    "        self._target = target;\n",
    "\n",
    "    def Progress(self):\n",
    "        self._target.trs = self._target.trs @ util.rotate((0, 1, 0), self._angle);\n",
    "\n",
    "    def drawSelfGui(self, imgui):\n",
    "        changed, value = imgui.slider_float(\"Euler Angle\", self._angle, -20, 20, \"%.1f\", 1);\n",
    "        self._angle = value;\n",
    "    "
   ]
  },
  {
   "cell_type": "markdown",
   "metadata": {},
   "source": [
    "Naturaly, it's values can be changed when clicked. Not much to it here."
   ]
  },
  {
   "cell_type": "markdown",
   "metadata": {},
   "source": [
    "---\n"
   ]
  },
  {
   "cell_type": "markdown",
   "metadata": {},
   "source": [
    "### Effective GUI"
   ]
  },
  {
   "cell_type": "markdown",
   "metadata": {},
   "source": [
    "No reason or time to get into detail. It works ¯\\_(ツ)_/¯"
   ]
  },
  {
   "cell_type": "markdown",
   "metadata": {},
   "source": [
    "---"
   ]
  },
  {
   "cell_type": "markdown",
   "metadata": {},
   "source": [
    "### Camera GUI"
   ]
  },
  {
   "cell_type": "markdown",
   "metadata": {},
   "source": [
    "A fast and simple as the name suggests camera class was created:"
   ]
  },
  {
   "cell_type": "code",
   "execution_count": null,
   "metadata": {},
   "outputs": [],
   "source": [
    "class SimpleCamera(Entity):\n",
    "    def __init__(self, name=None, type=None, id=None) -> None:\n",
    "        super().__init__(name, type, id)\n",
    "        scene = Scene();\n",
    "        rootEntity = scene.world.root;\n",
    "\n",
    "        scene.world.addEntityChild(rootEntity, self);\n",
    "\n",
    "        entityCam1 = scene.world.createEntity(Entity(name=\"entityCam1\"));\n",
    "        scene.world.addEntityChild(self, entityCam1);\n",
    "        self.trans1 = scene.world.addComponent(entityCam1, BasicTransform(name=\"trans1\", trs=util.identity()));\n",
    "        \n",
    "        entityCam2 = scene.world.createEntity(Entity(name=\"entityCam2\"));\n",
    "        scene.world.addEntityChild(entityCam1, entityCam2);\n",
    "        self.trans2 = scene.world.addComponent(entityCam2, BasicTransform(name=\"trans2\", trs=util.identity()));\n",
    "        \n",
    "        self._near = 1;\n",
    "        self._far = 20;\n",
    "\n",
    "        self._fov = 50;\n",
    "        self._aspect = 1.0;\n",
    "\n",
    "        self._left = -10;\n",
    "        self._right = 10;\n",
    "        self._bottom = -10;\n",
    "        self._top = 10;\n",
    "\n",
    "        self._mode = \"perspective\";\n",
    "        self._camera = scene.world.addComponent(entityCam2, Camera(util.perspective(self._fov, self._aspect, self._near, self._far), \"MainCamera\", \"Camera\", \"500\"));        \n",
    "        None;\n",
    "\n",
    "    @property\n",
    "    def camera(self):\n",
    "        return self._camera;\n",
    "\n",
    "    def drawSelfGui(self, imgui):\n",
    "        if imgui.button(\"Orthograpic\") and self._mode is \"perspective\":\n",
    "            self._mode = \"orthographic\";\n",
    "            self._camera.projMat = util.ortho(self._left, self._right, self._bottom, self._top, self._near, self._far);\n",
    "        if imgui.button(\"Perspective\") and self._mode is \"orthographic\":\n",
    "            self._mode = \"perspective\";\n",
    "            self._camera.projMat = util.perspective(self._fov, self._aspect, self._near, self._far)\n",
    "\n",
    "        if self._mode is \"orthographic\":\n",
    "            changed, value = imgui.slider_float(\"Left\", self._left, -50, -1, \"%0.1f\", 1);\n",
    "            self._left = value;\n",
    "            changed, value = imgui.slider_float(\"Right\", self._right, 1, 50, \"%0.1f\", 1);\n",
    "            self._right = value;\n",
    "            changed, value = imgui.slider_float(\"Bottom\", self._bottom, -50, -1, \"%0.1f\", 1);\n",
    "            self._bottom = value;\n",
    "            changed, value = imgui.slider_float(\"Top\", self._top, 1, 50, \"%0.1f\", 1);\n",
    "            self._top = value;\n",
    "\n",
    "            self._camera.projMat = util.ortho(self._left, self._right, self._bottom, self._top, self._near, self._far);\n",
    "        elif self._mode is \"perspective\":\n",
    "            changed, value = imgui.slider_float(\"FOV\", self._fov, 1, 120, \"%0.1f\", 1);\n",
    "            self._fov = value;\n",
    "            changed, value = imgui.slider_float(\"Aspect\", self._aspect, 0.5, 2, \"%0.1f\", 1);\n",
    "            self._aspect = value;\n",
    "\n",
    "            self._camera.projMat = util.perspective(self._fov, self._aspect, self._near, self._far)\n"
   ]
  },
  {
   "cell_type": "markdown",
   "metadata": {},
   "source": [
    "Code above is self explanatory^^"
   ]
  }
 ],
 "metadata": {
  "kernelspec": {
   "display_name": "Python 3.7.9 64-bit ('glGA37': conda)",
   "metadata": {
    "interpreter": {
     "hash": "38e56ec89d613ed1db8665747e1247bdd777b72942207e01357cfd83e328755a"
    }
   },
   "name": "python3"
  },
  "language_info": {
   "codemirror_mode": {
    "name": "ipython",
    "version": 3
   },
   "file_extension": ".py",
   "mimetype": "text/x-python",
   "name": "python",
   "nbconvert_exporter": "python",
   "pygments_lexer": "ipython3",
   "version": "3.9.7"
  },
  "orig_nbformat": 2
 },
 "nbformat": 4,
 "nbformat_minor": 2
}
